{
 "cells": [
  {
   "cell_type": "markdown",
   "id": "2f4aee9d",
   "metadata": {},
   "source": [
    "*This fun, step by step, project \"A/B Testing for ShoeFly.com\" is at the end of the chapter of Codecademy's chapter on Python Aggregates in Pandas in Python Pandas for Data Science, part of Data Science Foundations II, which is overrall part of the career path Data Scientist Machine Learning.*\n",
    "\n",
    "*(It's a big course).*\n",
    "\n",
    "*While this could be done in the interactive Codecademy window, I decided to copy it here into Jupyter, just so there's actually a record that I did the dang thing.*\n",
    "\n",
    "*It consolidates and tests one's knowledge of carrying out aggregates on dataframes in Pandas.*\n",
    "\n",
    "*Enjoy.*"
   ]
  },
  {
   "cell_type": "markdown",
   "id": "ad3c81ad",
   "metadata": {},
   "source": [
    "# A/B Testing for ShoeFly.com\n",
    "\n",
    "Our favorite online shoe store, ShoeFly.com is performing an A/B Test. They have two different versions of an ad, which they have placed in emails, as well as in banner ads on Facebook, Twitter, and Google. They want to know how the two ads are performing on each of the different platforms on each day of the week. Help them analyze the data using aggregate measures."
   ]
  },
  {
   "cell_type": "markdown",
   "id": "28b9cdb9",
   "metadata": {},
   "source": [
    "## Analyzing Ad Sources\n",
    "\n",
    "1. Examine the first few rows of `ad_clicks.`"
   ]
  },
  {
   "cell_type": "code",
   "execution_count": 1,
   "id": "5ad5c217",
   "metadata": {},
   "outputs": [
    {
     "data": {
      "text/html": [
       "<div>\n",
       "<style scoped>\n",
       "    .dataframe tbody tr th:only-of-type {\n",
       "        vertical-align: middle;\n",
       "    }\n",
       "\n",
       "    .dataframe tbody tr th {\n",
       "        vertical-align: top;\n",
       "    }\n",
       "\n",
       "    .dataframe thead th {\n",
       "        text-align: right;\n",
       "    }\n",
       "</style>\n",
       "<table border=\"1\" class=\"dataframe\">\n",
       "  <thead>\n",
       "    <tr style=\"text-align: right;\">\n",
       "      <th></th>\n",
       "      <th>user_id</th>\n",
       "      <th>utm_source</th>\n",
       "      <th>day</th>\n",
       "      <th>ad_click_timestamp</th>\n",
       "      <th>experimental_group</th>\n",
       "    </tr>\n",
       "  </thead>\n",
       "  <tbody>\n",
       "    <tr>\n",
       "      <th>0</th>\n",
       "      <td>008b7c6c-7272-471e-b90e-930d548bd8d7</td>\n",
       "      <td>google</td>\n",
       "      <td>6 - Saturday</td>\n",
       "      <td>7:18</td>\n",
       "      <td>A</td>\n",
       "    </tr>\n",
       "    <tr>\n",
       "      <th>1</th>\n",
       "      <td>009abb94-5e14-4b6c-bb1c-4f4df7aa7557</td>\n",
       "      <td>facebook</td>\n",
       "      <td>7 - Sunday</td>\n",
       "      <td>NaN</td>\n",
       "      <td>B</td>\n",
       "    </tr>\n",
       "    <tr>\n",
       "      <th>2</th>\n",
       "      <td>00f5d532-ed58-4570-b6d2-768df5f41aed</td>\n",
       "      <td>twitter</td>\n",
       "      <td>2 - Tuesday</td>\n",
       "      <td>NaN</td>\n",
       "      <td>A</td>\n",
       "    </tr>\n",
       "    <tr>\n",
       "      <th>3</th>\n",
       "      <td>011adc64-0f44-4fd9-a0bb-f1506d2ad439</td>\n",
       "      <td>google</td>\n",
       "      <td>2 - Tuesday</td>\n",
       "      <td>NaN</td>\n",
       "      <td>B</td>\n",
       "    </tr>\n",
       "    <tr>\n",
       "      <th>4</th>\n",
       "      <td>012137e6-7ae7-4649-af68-205b4702169c</td>\n",
       "      <td>facebook</td>\n",
       "      <td>7 - Sunday</td>\n",
       "      <td>NaN</td>\n",
       "      <td>B</td>\n",
       "    </tr>\n",
       "  </tbody>\n",
       "</table>\n",
       "</div>"
      ],
      "text/plain": [
       "                                user_id utm_source           day  \\\n",
       "0  008b7c6c-7272-471e-b90e-930d548bd8d7     google  6 - Saturday   \n",
       "1  009abb94-5e14-4b6c-bb1c-4f4df7aa7557   facebook    7 - Sunday   \n",
       "2  00f5d532-ed58-4570-b6d2-768df5f41aed    twitter   2 - Tuesday   \n",
       "3  011adc64-0f44-4fd9-a0bb-f1506d2ad439     google   2 - Tuesday   \n",
       "4  012137e6-7ae7-4649-af68-205b4702169c   facebook    7 - Sunday   \n",
       "\n",
       "  ad_click_timestamp experimental_group  \n",
       "0               7:18                  A  \n",
       "1                NaN                  B  \n",
       "2                NaN                  A  \n",
       "3                NaN                  B  \n",
       "4                NaN                  B  "
      ]
     },
     "execution_count": 1,
     "metadata": {},
     "output_type": "execute_result"
    }
   ],
   "source": [
    "import pandas as pd\n",
    "\n",
    "ad_clicks = pd.read_csv('ad_clicks.csv')\n",
    "ad_clicks.head()"
   ]
  },
  {
   "cell_type": "markdown",
   "id": "2c1f7724",
   "metadata": {},
   "source": [
    "2. Your manager wants to know which ad platform is getting you the most views.\n",
    "\n",
    "    How many views (i.e., rows of the table) came from each `utm_source?`"
   ]
  },
  {
   "cell_type": "code",
   "execution_count": 4,
   "id": "e009f2a7",
   "metadata": {},
   "outputs": [
    {
     "name": "stdout",
     "output_type": "stream",
     "text": [
      "  utm_source  counts\n",
      "0      email     255\n",
      "1   facebook     504\n",
      "2     google     680\n",
      "3    twitter     215\n"
     ]
    }
   ],
   "source": [
    "ads_by_source = ad_clicks.groupby('utm_source').user_id.count().reset_index()\n",
    "ads_by_source = ads_by_source.rename(columns={'user_id': 'counts'})\n",
    "print(ads_by_source)"
   ]
  },
  {
   "cell_type": "markdown",
   "id": "274026d7",
   "metadata": {},
   "source": [
    "3. If the column `ad_click_timestamp` is not null, then someone actually clicked on the ad that was displayed.\n",
    "\n",
    "    Create a new column called `is_click`, which is True if `ad_click_timestamp` is not null and `False` otherwise."
   ]
  },
  {
   "cell_type": "code",
   "execution_count": 5,
   "id": "28e955b9",
   "metadata": {},
   "outputs": [
    {
     "data": {
      "text/html": [
       "<div>\n",
       "<style scoped>\n",
       "    .dataframe tbody tr th:only-of-type {\n",
       "        vertical-align: middle;\n",
       "    }\n",
       "\n",
       "    .dataframe tbody tr th {\n",
       "        vertical-align: top;\n",
       "    }\n",
       "\n",
       "    .dataframe thead th {\n",
       "        text-align: right;\n",
       "    }\n",
       "</style>\n",
       "<table border=\"1\" class=\"dataframe\">\n",
       "  <thead>\n",
       "    <tr style=\"text-align: right;\">\n",
       "      <th></th>\n",
       "      <th>user_id</th>\n",
       "      <th>utm_source</th>\n",
       "      <th>day</th>\n",
       "      <th>ad_click_timestamp</th>\n",
       "      <th>experimental_group</th>\n",
       "      <th>is_click</th>\n",
       "    </tr>\n",
       "  </thead>\n",
       "  <tbody>\n",
       "    <tr>\n",
       "      <th>0</th>\n",
       "      <td>008b7c6c-7272-471e-b90e-930d548bd8d7</td>\n",
       "      <td>google</td>\n",
       "      <td>6 - Saturday</td>\n",
       "      <td>7:18</td>\n",
       "      <td>A</td>\n",
       "      <td>True</td>\n",
       "    </tr>\n",
       "    <tr>\n",
       "      <th>1</th>\n",
       "      <td>009abb94-5e14-4b6c-bb1c-4f4df7aa7557</td>\n",
       "      <td>facebook</td>\n",
       "      <td>7 - Sunday</td>\n",
       "      <td>NaN</td>\n",
       "      <td>B</td>\n",
       "      <td>False</td>\n",
       "    </tr>\n",
       "    <tr>\n",
       "      <th>2</th>\n",
       "      <td>00f5d532-ed58-4570-b6d2-768df5f41aed</td>\n",
       "      <td>twitter</td>\n",
       "      <td>2 - Tuesday</td>\n",
       "      <td>NaN</td>\n",
       "      <td>A</td>\n",
       "      <td>False</td>\n",
       "    </tr>\n",
       "    <tr>\n",
       "      <th>3</th>\n",
       "      <td>011adc64-0f44-4fd9-a0bb-f1506d2ad439</td>\n",
       "      <td>google</td>\n",
       "      <td>2 - Tuesday</td>\n",
       "      <td>NaN</td>\n",
       "      <td>B</td>\n",
       "      <td>False</td>\n",
       "    </tr>\n",
       "    <tr>\n",
       "      <th>4</th>\n",
       "      <td>012137e6-7ae7-4649-af68-205b4702169c</td>\n",
       "      <td>facebook</td>\n",
       "      <td>7 - Sunday</td>\n",
       "      <td>NaN</td>\n",
       "      <td>B</td>\n",
       "      <td>False</td>\n",
       "    </tr>\n",
       "  </tbody>\n",
       "</table>\n",
       "</div>"
      ],
      "text/plain": [
       "                                user_id utm_source           day  \\\n",
       "0  008b7c6c-7272-471e-b90e-930d548bd8d7     google  6 - Saturday   \n",
       "1  009abb94-5e14-4b6c-bb1c-4f4df7aa7557   facebook    7 - Sunday   \n",
       "2  00f5d532-ed58-4570-b6d2-768df5f41aed    twitter   2 - Tuesday   \n",
       "3  011adc64-0f44-4fd9-a0bb-f1506d2ad439     google   2 - Tuesday   \n",
       "4  012137e6-7ae7-4649-af68-205b4702169c   facebook    7 - Sunday   \n",
       "\n",
       "  ad_click_timestamp experimental_group  is_click  \n",
       "0               7:18                  A      True  \n",
       "1                NaN                  B     False  \n",
       "2                NaN                  A     False  \n",
       "3                NaN                  B     False  \n",
       "4                NaN                  B     False  "
      ]
     },
     "execution_count": 5,
     "metadata": {},
     "output_type": "execute_result"
    }
   ],
   "source": [
    "ad_clicks['is_click'] = ~ad_clicks.ad_click_timestamp.isnull()\n",
    "ad_clicks.head()"
   ]
  },
  {
   "cell_type": "markdown",
   "id": "dc8016cf",
   "metadata": {},
   "source": [
    "4. We want to know the percent of people who clicked on ads from each `utm_source`.\n",
    "\n",
    "    Start by grouping by `utm_source` and `is_click` and counting the number of `user_id`‘s in each of those groups. Save your answer to the variable `clicks_by_source`."
   ]
  },
  {
   "cell_type": "code",
   "execution_count": 6,
   "id": "0fee66ca",
   "metadata": {},
   "outputs": [
    {
     "name": "stdout",
     "output_type": "stream",
     "text": [
      "  utm_source  is_click  user_id\n",
      "0      email     False      175\n",
      "1      email      True       80\n",
      "2   facebook     False      324\n",
      "3   facebook      True      180\n",
      "4     google     False      441\n",
      "5     google      True      239\n",
      "6    twitter     False      149\n",
      "7    twitter      True       66\n"
     ]
    }
   ],
   "source": [
    "clicks_by_source = ad_clicks.groupby(['utm_source', 'is_click']).user_id.count().reset_index()\n",
    "print(clicks_by_source)"
   ]
  },
  {
   "cell_type": "markdown",
   "id": "18c0e179",
   "metadata": {},
   "source": [
    "5. Now let’s pivot the data so that the columns are `is_click` (either `True` or `False`), the index is `utm_source`, and the values are `user_id`.\n",
    "\n",
    "    Save your results to the variable `clicks_pivot`."
   ]
  },
  {
   "cell_type": "code",
   "execution_count": 9,
   "id": "23040d18",
   "metadata": {},
   "outputs": [
    {
     "name": "stdout",
     "output_type": "stream",
     "text": [
      "is_click utm_source  False  True\n",
      "0             email    175    80\n",
      "1          facebook    324   180\n",
      "2            google    441   239\n",
      "3           twitter    149    66\n"
     ]
    }
   ],
   "source": [
    "clicks_pivot = clicks_by_source.pivot(columns='is_click',\n",
    "                                      index='utm_source',\n",
    "                                      values='user_id').reset_index()\n",
    "print(clicks_pivot)"
   ]
  },
  {
   "cell_type": "markdown",
   "id": "b83548cc",
   "metadata": {},
   "source": [
    "6. Create a new column in `clicks_pivot` called `percent_clicked` which is equal to the percent of users who clicked on the ad from each `utm_source`.\n",
    "\n",
    "    Was there a difference in click rates for each source?"
   ]
  },
  {
   "cell_type": "code",
   "execution_count": 12,
   "id": "65c9731c",
   "metadata": {},
   "outputs": [
    {
     "name": "stdout",
     "output_type": "stream",
     "text": [
      "is_click utm_source  False  True  percent_clicked\n",
      "0             email    175    80         0.313725\n",
      "1          facebook    324   180         0.357143\n",
      "2            google    441   239         0.351471\n",
      "3           twitter    149    66         0.306977\n"
     ]
    }
   ],
   "source": [
    "clicks_pivot['percent_clicked'] = clicks_pivot[True]/(clicks_pivot[True] + clicks_pivot[False])\n",
    "print(clicks_pivot)"
   ]
  },
  {
   "cell_type": "markdown",
   "id": "accb062e",
   "metadata": {},
   "source": [
    "**My comment: Yes there was a difference in click rates**"
   ]
  },
  {
   "cell_type": "markdown",
   "id": "612a3b33",
   "metadata": {},
   "source": [
    "## Analyzing an A/B Test\n",
    "\n",
    "7. The column `experimental_group` tells us whether the user was shown Ad A or Ad B.\n",
    "\n",
    "    Were approximately the same number of people shown both ads?"
   ]
  },
  {
   "cell_type": "code",
   "execution_count": 13,
   "id": "cf1a4a8a",
   "metadata": {},
   "outputs": [
    {
     "name": "stdout",
     "output_type": "stream",
     "text": [
      "  experimental_group  user_id\n",
      "0                  A      827\n",
      "1                  B      827\n"
     ]
    }
   ],
   "source": [
    "by_experiment = ad_clicks.groupby('experimental_group').user_id.count().reset_index()\n",
    "print(by_experiment)"
   ]
  },
  {
   "cell_type": "markdown",
   "id": "bffe2f4e",
   "metadata": {},
   "source": [
    "**My comment: Same number of people were shown both ads**"
   ]
  },
  {
   "cell_type": "markdown",
   "id": "b45a7213",
   "metadata": {},
   "source": [
    "8. Using the column `is_click` that we defined earlier, check to see if a greater percentage of users clicked on Ad A or Ad B."
   ]
  },
  {
   "cell_type": "code",
   "execution_count": 18,
   "id": "8100f77a",
   "metadata": {},
   "outputs": [
    {
     "name": "stdout",
     "output_type": "stream",
     "text": [
      "is_click experimental_group  False  True  percent_clicked\n",
      "0                         A    517   310         0.374849\n",
      "1                         B    572   255         0.308343\n"
     ]
    }
   ],
   "source": [
    "#Group table by experiment and is_click\n",
    "clicks_by_experiment = ad_clicks.groupby(['experimental_group', 'is_click']).user_id.count().reset_index()\n",
    "\n",
    "#Pivot table \n",
    "clicks_by_experiment_pivot = clicks_by_experiment.pivot(columns='is_click',\n",
    "                                                       index='experimental_group',\n",
    "                                                       values='user_id').reset_index()\n",
    "\n",
    "#Calculate percent clicked and add it to new column\n",
    "clicks_by_experiment_pivot['percent_clicked'] = clicks_by_experiment_pivot[True]/(clicks_by_experiment_pivot[True] + clicks_by_experiment_pivot[False])\n",
    "\n",
    "#Print final table\n",
    "print(clicks_by_experiment_pivot)"
   ]
  },
  {
   "cell_type": "markdown",
   "id": "a6aaef6f",
   "metadata": {},
   "source": [
    "**My comment: Greater percent of people clicked on Ad A.**"
   ]
  },
  {
   "cell_type": "markdown",
   "id": "7511100d",
   "metadata": {},
   "source": [
    "9. The Product Manager for the A/B test thinks that the clicks might have changed by day of the week.\n",
    "\n",
    "    Start by creating two DataFrames: `a_clicks` and `b_clicks`, which contain only the results for `A` group and `B` group, respectively."
   ]
  },
  {
   "cell_type": "code",
   "execution_count": null,
   "id": "8629259c",
   "metadata": {},
   "outputs": [],
   "source": []
  },
  {
   "cell_type": "markdown",
   "id": "8f17bda0",
   "metadata": {},
   "source": [
    "10. For each group (`a_clicks` and `b_clicks`), calculate the percent of users who clicked on the ad by `day`."
   ]
  },
  {
   "cell_type": "markdown",
   "id": "4066572e",
   "metadata": {},
   "source": []
  },
  {
   "cell_type": "markdown",
   "id": "f01e23b7",
   "metadata": {},
   "source": [
    "11. Compare the results for A and B. What happened over the course of the week?\n",
    "\n",
    "    Do you recommend that your company use Ad `A` or Ad `B`?"
   ]
  },
  {
   "cell_type": "code",
   "execution_count": null,
   "id": "81a237e4",
   "metadata": {},
   "outputs": [],
   "source": []
  }
 ],
 "metadata": {
  "kernelspec": {
   "display_name": "Python 3 (ipykernel)",
   "language": "python",
   "name": "python3"
  },
  "language_info": {
   "codemirror_mode": {
    "name": "ipython",
    "version": 3
   },
   "file_extension": ".py",
   "mimetype": "text/x-python",
   "name": "python",
   "nbconvert_exporter": "python",
   "pygments_lexer": "ipython3",
   "version": "3.11.7"
  }
 },
 "nbformat": 4,
 "nbformat_minor": 5
}
